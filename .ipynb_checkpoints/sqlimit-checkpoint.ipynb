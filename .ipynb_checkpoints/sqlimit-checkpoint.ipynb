{
 "cells": [
  {
   "cell_type": "markdown",
   "metadata": {},
   "source": [
    "# Detailed Balance Efficiency Limit\n",
    "import necessary packagaes"
   ]
  },
  {
   "cell_type": "code",
   "execution_count": 1,
   "metadata": {},
   "outputs": [],
   "source": [
    "from math import pi\n",
    "from scipy.integrate import trapz\n",
    "from scipy.interpolate import interp1d\n",
    "\n",
    "import pandas as pd\n",
    "import numpy as np\n",
    "import matplotlib.pyplot as plt"
   ]
  },
  {
   "cell_type": "markdown",
   "metadata": {},
   "source": [
    "initialize constants, load data"
   ]
  },
  {
   "cell_type": "code",
   "execution_count": 2,
   "metadata": {},
   "outputs": [],
   "source": [
    "#constants\n",
    "c=2.998e8 #m/s\n",
    "h=4.136e-15 #eV s\n",
    "k=8.617e-5 #eV/K\n",
    "q=1.602e-19 #C\n",
    "t_c=300\n",
    "t_s=5800\n",
    "omega_s=6.8e-5\n",
    "omega_c=pi\n",
    "\n",
    "#bandgaps\n",
    "e_step=0.001 #step size for bandgaps \n",
    "egs=np.arange(e_step,3,e_step) #bandgaps in eV\n",
    "\n",
    "#am1.5 data\n",
    "am1p5_raw=np.loadtxt(\"am1p5_raw.txt\")"
   ]
  },
  {
   "cell_type": "markdown",
   "metadata": {},
   "source": [
    "### SQ limit, AM0\n",
    "\n",
    "calculate incident power and initialize efficiency array"
   ]
  },
  {
   "cell_type": "code",
   "execution_count": 3,
   "metadata": {},
   "outputs": [],
   "source": [
    "#incident power\n",
    "e_tot=np.arange(e_step,8,e_step)\n",
    "bbe_s=2*omega_s/(h**3*c**2)*e_tot**3/(np.exp(e_tot/(k*t_s))-1)\n",
    "pinc_am0=q*trapz(bbe_s,e_tot) #W/(m^2) - multiply by q for eV to J\n",
    "\n",
    "#initialize efficiency\n",
    "eff_am0=np.zeros(len(egs))"
   ]
  },
  {
   "cell_type": "markdown",
   "metadata": {},
   "source": [
    "run over bandgaps, find max efficiency"
   ]
  },
  {
   "cell_type": "code",
   "execution_count": 4,
   "metadata": {},
   "outputs": [],
   "source": [
    "i=0 #initialize index\n",
    "\n",
    "for eg in egs:\n",
    "    \n",
    "    e=np.arange(eg,8,e_step) #integration bounds are e_g to infinity (8 ev here)\n",
    "    v=np.arange(0,eg,e_step) #voltages from from 0 to bandgap\n",
    "    \n",
    "    bb_c=2*omega_c/(h**3*c**2)*e**2/(np.exp(e/(k*t_c))-1) #bb radiation from cell, photons/(m^2*s)\n",
    "    j0=q*trapz(bb_c,e) #C/(m^2*s) = A/m^2\n",
    "    \n",
    "    bb_s=2*omega_s/(h**3*c**2)*e**2/(np.exp(e/(k*t_s))-1) #bb radiation from sun, photons/(m^2*s)\n",
    "    jsc=q*trapz(bb_s,e) #C/(m^2*s) = A/m^2\n",
    "    \n",
    "    j=-(j0*(np.exp(v/(k*t_c))-1)-jsc) #just need v b/c k is in eV/K\n",
    "    #j=-(j0*(np.exp(v/(k*T_c)))-jsc) #no real difference\n",
    "    \n",
    "    pmax=np.max(j*v)\n",
    "    eff_am0[i]=pmax/pinc_am0\n",
    "    \n",
    "    i+=1 #index\n",
    "    "
   ]
  },
  {
   "cell_type": "markdown",
   "metadata": {},
   "source": [
    "### SQ limit, AM1.5\n",
    "calculate incident power and initialize efficiency array"
   ]
  },
  {
   "cell_type": "code",
   "execution_count": 5,
   "metadata": {},
   "outputs": [],
   "source": [
    "#incident power\n",
    "ev=1240/am1p5_raw[::-1,0]\n",
    "am1p5=1/ev**2*1240*am1p5_raw[::-1,1] #W/(m^2 eV)\n",
    "pinc_am1p5=trapz(am1p5,ev)\n",
    "\n",
    "#create interpolant\n",
    "g=interp1d(ev,am1p5,fill_value=\"extrapolate\")\n",
    "\n",
    "#initialize efficiency\n",
    "eff_am1p5=np.zeros(len(egs))"
   ]
  },
  {
   "cell_type": "markdown",
   "metadata": {},
   "source": [
    "run over bandgaps, find max efficiency"
   ]
  },
  {
   "cell_type": "code",
   "execution_count": 8,
   "metadata": {},
   "outputs": [],
   "source": [
    "i=0 #initialize index\n",
    "\n",
    "for eg in egs:\n",
    "    \n",
    "    e=np.arange(eg,5,e_step) #integration bounds are e_g to infinity (8 ev here)\n",
    "    v=np.arange(0,eg,e_step) #voltages from from 0 to bandgap\n",
    "    \n",
    "    bb_c=2*omega_c/(h**3*c**2)*e**2/(np.exp(e/(k*t_c))-1) #bb radiation from cell, photons/(m^2*s)\n",
    "    j0=q*trapz(bb_c,e) #C/(m^2*s) = A/m^2\n",
    "    \n",
    "    rad_s=g(e)/(q*e) #bb radiation from sun, photons/(m^2*s)\n",
    "    jsc=q*trapz(rad_s,e) #C/(m^2*s) = A/m^2\n",
    "    \n",
    "    j=-(j0*(np.exp(v/(k*t_c))-1)-jsc) #just need v b/c k is in eV/K\n",
    "    #j=-(j0*(np.exp(v/(k*T_c)))-jsc) #no real difference\n",
    "    \n",
    "    pmax=np.max(j*v)\n",
    "    eff_am1p5[i]=pmax/pinc_am1p5\n",
    "    \n",
    "    if eg==1.337: #save I-V data for best device\n",
    "        jmax=j\n",
    "        vmax=v\n",
    "    \n",
    "    i+=1 #index\n",
    "    "
   ]
  },
  {
   "cell_type": "markdown",
   "metadata": {},
   "source": [
    "calculate jsc, voc, ff for best I-V data"
   ]
  },
  {
   "cell_type": "code",
   "execution_count": null,
   "metadata": {},
   "outputs": [],
   "source": []
  },
  {
   "cell_type": "markdown",
   "metadata": {},
   "source": [
    "### Plots \n",
    "\n",
    "plot S-Q efficiency limit"
   ]
  },
  {
   "cell_type": "code",
   "execution_count": 9,
   "metadata": {},
   "outputs": [
    {
     "data": {
      "text/plain": [
       "[<matplotlib.lines.Line2D at 0x102a3dd68>,\n",
       " <matplotlib.lines.Line2D at 0x102a3deb8>]"
      ]
     },
     "execution_count": 9,
     "metadata": {},
     "output_type": "execute_result"
    },
    {
     "data": {
      "image/png": "[encoded data removed]",
      "text/plain": [
       "<Figure size 432x288 with 1 Axes>"
      ]
     },
     "metadata": {
      "needs_background": "light"
     },
     "output_type": "display_data"
    }
   ],
   "source": [
    "plt.plot(egs,eff_am0,egs,eff_am1p5)"
   ]
  },
  {
   "cell_type": "code",
   "execution_count": null,
   "metadata": {},
   "outputs": [],
   "source": []
  },
  {
   "cell_type": "code",
   "execution_count": 10,
   "metadata": {},
   "outputs": [
    {
     "name": "stdout",
     "output_type": "stream",
     "text": [
      "['seaborn-dark', 'seaborn-darkgrid', 'seaborn-ticks', 'fivethirtyeight', 'seaborn-whitegrid', 'classic', '_classic_test', 'fast', 'seaborn-talk', 'seaborn-dark-palette', 'seaborn-bright', 'seaborn-pastel', 'grayscale', 'seaborn-notebook', 'ggplot', 'seaborn-colorblind', 'seaborn-muted', 'seaborn', 'Solarize_Light2', 'seaborn-paper', 'bmh', 'tableau-colorblind10', 'seaborn-white', 'dark_background', 'seaborn-poster', 'seaborn-deep']\n"
     ]
    }
   ],
   "source": [
    "print(plt.style.available)"
   ]
  },
  {
   "cell_type": "code",
   "execution_count": null,
   "metadata": {},
   "outputs": [],
   "source": []
  }
 ],
 "metadata": {
  "kernelspec": {
   "display_name": "Python 3",
   "language": "python",
   "name": "python3"
  },
  "language_info": {
   "codemirror_mode": {
    "name": "ipython",
    "version": 3
   },
   "file_extension": ".py",
   "mimetype": "text/x-python",
   "name": "python",
   "nbconvert_exporter": "python",
   "pygments_lexer": "ipython3",
   "version": "3.7.3"
  }
 },
 "nbformat": 4,
 "nbformat_minor": 2
}
