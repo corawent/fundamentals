{
 "cells": [
  {
   "cell_type": "markdown",
   "metadata": {},
   "source": [
    "# Semiconductor Parameter Calculation\n",
    "\n",
    "Import necessary pacakges"
   ]
  },
  {
   "cell_type": "code",
   "execution_count": 1,
   "metadata": {},
   "outputs": [],
   "source": [
    "%config InlineBackend.figure_format = 'retina' #to make inline images higher res\n",
    "\n",
    "from math import pi\n",
    "from scipy.integrate import trapz\n",
    "from scipy.interpolate import interp1d\n",
    "import scipy.io\n",
    "\n",
    "import numpy as np\n",
    "import matplotlib.pyplot as plt"
   ]
  },
  {
   "cell_type": "markdown",
   "metadata": {},
   "source": [
    "define plot style"
   ]
  },
  {
   "cell_type": "code",
   "execution_count": 2,
   "metadata": {},
   "outputs": [],
   "source": [
    "plt.style.use(['presplot'])"
   ]
  },
  {
   "cell_type": "markdown",
   "metadata": {},
   "source": [
    "initialize constants"
   ]
  },
  {
   "cell_type": "code",
   "execution_count": 16,
   "metadata": {},
   "outputs": [],
   "source": [
    "k=1.381e-23; #J/K\n",
    "t=300; #K\n",
    "h=6.626e-34; #J/s\n",
    "hbar=h/(2*np.pi);\n",
    "m0=9.109e-31; #kg\n",
    "q=1.602e-19; #coulombs\n",
    "c=2.998e8; #m/s\n",
    "eps0=8.85e-12; #F/m"
   ]
  },
  {
   "cell_type": "markdown",
   "metadata": {},
   "source": [
    "### SiC\n",
    "\n",
    "define material parameters"
   ]
  },
  {
   "cell_type": "code",
   "execution_count": 4,
   "metadata": {},
   "outputs": [],
   "source": [
    "# For SiC\n",
    "eg=2.36 #eV\n",
    "\n",
    "ev=0\n",
    "ec=eg\n",
    "\n",
    "mh=0.6*m0\n",
    "met=0.25*m0\n",
    "mel=0.68*m0\n",
    "M=3 #number of equivalent valleys\n",
    "\n",
    "me=M**(2/3)*(mel*met**2)**(1/3) #geometric mean"
   ]
  },
  {
   "cell_type": "markdown",
   "metadata": {},
   "source": [
    "calculate fermi level, effective CB and VB DOS, and intrinsic carrier concentration"
   ]
  },
  {
   "cell_type": "code",
   "execution_count": 5,
   "metadata": {},
   "outputs": [],
   "source": [
    "ef=0.5*(ec+ev)+3/4*k*t/q*np.log(mh/me)\n",
    "Nc=2*(me*k*t/(2*np.pi*hbar**2))**(3/2)*1/(100**3) #1/cm^3\n",
    "Nv=2*(mh*k*t/(2*np.pi*hbar**2))**(3/2)*1/(100**3) #1/cm^3\n",
    "ni=(Nc*Nv)**0.5*np.exp(-q*eg/(2*k*t))"
   ]
  },
  {
   "cell_type": "code",
   "execution_count": 6,
   "metadata": {},
   "outputs": [
    {
     "data": {
      "text/plain": [
       "[1.1763053708373157,\n",
       " 0.20563210162945866,\n",
       " 1.5525288397414345e+19,\n",
       " 1.1666775264675887e+19,\n",
       " 0.7259005851623789,\n",
       " 0.6]"
      ]
     },
     "execution_count": 6,
     "metadata": {},
     "output_type": "execute_result"
    }
   ],
   "source": [
    "[ef,ni,Nc,Nv,me/m0,mh/m0]"
   ]
  },
  {
   "cell_type": "markdown",
   "metadata": {},
   "source": [
    "### Si\n",
    "\n",
    "define material parameters"
   ]
  },
  {
   "cell_type": "code",
   "execution_count": 7,
   "metadata": {},
   "outputs": [],
   "source": [
    "#Si\n",
    "eg=1.1\n",
    "\n",
    "ev=0\n",
    "ec=eg\n",
    "\n",
    "mh=0.81*m0\n",
    "mel=0.98*m0\n",
    "met=0.19*m0\n",
    "M=6\n",
    "\n",
    "me=M**(2/3)*(mel*met*met)**(1/3) #geometric mean"
   ]
  },
  {
   "cell_type": "markdown",
   "metadata": {},
   "source": [
    "calculate fermi level, effective CB and VB DOS, and intrinsic carrier concentration"
   ]
  },
  {
   "cell_type": "code",
   "execution_count": 8,
   "metadata": {},
   "outputs": [],
   "source": [
    "ef=0.5*(ec+ev)+3/4*k*t/q*np.log(mh/me)\n",
    "Nc=2*(me*k*t/(2*np.pi*hbar**2))**(3/2)*1/(100**3) #1/cm^3\n",
    "Nv=2*(mh*k*t/(2*np.pi*hbar**2))**(3/2)*1/(100**3) #1/cm^3\n",
    "ni=(Nc*Nv)**0.5*np.exp(-q*eg/(2*k*t))"
   ]
  },
  {
   "cell_type": "code",
   "execution_count": 9,
   "metadata": {},
   "outputs": [
    {
     "data": {
      "text/plain": [
       "[0.5443491696877258,\n",
       " 13216609734.807882,\n",
       " 2.8329691537074704e+19,\n",
       " 1.8300016653133908e+19,\n",
       " 1.0839566800496698,\n",
       " 0.81]"
      ]
     },
     "execution_count": 9,
     "metadata": {},
     "output_type": "execute_result"
    }
   ],
   "source": [
    "[ef,ni,Nc,Nv,me/m0,mh/m0]"
   ]
  },
  {
   "cell_type": "code",
   "execution_count": null,
   "metadata": {},
   "outputs": [],
   "source": []
  },
  {
   "cell_type": "markdown",
   "metadata": {},
   "source": [
    "### GaN\n",
    "\n",
    "define material parameters"
   ]
  },
  {
   "cell_type": "code",
   "execution_count": 10,
   "metadata": {},
   "outputs": [],
   "source": [
    "#Si\n",
    "eg=3.39\n",
    "\n",
    "ev=0\n",
    "ec=eg\n",
    "\n",
    "mh=m0\n",
    "me=0.2*m0"
   ]
  },
  {
   "cell_type": "markdown",
   "metadata": {},
   "source": [
    "calculate fermi level, effective CB and VB DOS, and intrinsic carrier concentration"
   ]
  },
  {
   "cell_type": "code",
   "execution_count": 11,
   "metadata": {},
   "outputs": [],
   "source": [
    "ef=0.5*(ec+ev)+3/4*k*t/q*np.log(mh/me)\n",
    "Nc=2*(me*k*t/(2*np.pi*hbar**2))**(3/2)*1/(100**3) #1/cm^3\n",
    "Nv=2*(mh*k*t/(2*np.pi*hbar**2))**(3/2)*1/(100**3) #1/cm^3\n",
    "ni=(Nc*Nv)**0.5*np.exp(-q*eg/(2*k*t))"
   ]
  },
  {
   "cell_type": "code",
   "execution_count": 12,
   "metadata": {},
   "outputs": [
    {
     "data": {
      "text/plain": [
       "[1.7262167662510042,\n",
       " 2.5770650942236514e-10,\n",
       " 2.2452719465451628e+18,\n",
       " 2.51029035022413e+19,\n",
       " 0.2,\n",
       " 1.0]"
      ]
     },
     "execution_count": 12,
     "metadata": {},
     "output_type": "execute_result"
    }
   ],
   "source": [
    "[ef,ni,Nc,Nv,me/m0,mh/m0]"
   ]
  },
  {
   "cell_type": "markdown",
   "metadata": {},
   "source": [
    "### Na"
   ]
  },
  {
   "cell_type": "code",
   "execution_count": 13,
   "metadata": {},
   "outputs": [
    {
     "data": {
      "text/plain": [
       "3.217076916602552"
      ]
     },
     "execution_count": 13,
     "metadata": {},
     "output_type": "execute_result"
    }
   ],
   "source": [
    "n=2.62e22*100**3\n",
    "ef=hbar**2/(2*m0)*(3*n*np.pi**2)**(2/3)\n",
    "ef/q"
   ]
  },
  {
   "cell_type": "code",
   "execution_count": 14,
   "metadata": {},
   "outputs": [
    {
     "data": {
      "text/plain": [
       "5.3e-29"
      ]
     },
     "execution_count": 14,
     "metadata": {},
     "output_type": "execute_result"
    }
   ],
   "source": [
    "float(53e-30)"
   ]
  },
  {
   "cell_type": "markdown",
   "metadata": {},
   "source": [
    "### InAs\n",
    "\n",
    "Donor Ionization Energy"
   ]
  },
  {
   "cell_type": "code",
   "execution_count": 22,
   "metadata": {},
   "outputs": [
    {
     "data": {
      "text/plain": [
       "0.0013916312217750585"
      ]
     },
     "execution_count": 22,
     "metadata": {},
     "output_type": "execute_result"
    }
   ],
   "source": [
    "me=0.023*m0\n",
    "eps=15\n",
    "\n",
    "ed_J=q**4*me/(2*(4*np.pi*eps0*eps*hbar)**2) #eV\n",
    "ed=ed_J/q\n",
    "ed"
   ]
  },
  {
   "cell_type": "code",
   "execution_count": 29,
   "metadata": {},
   "outputs": [
    {
     "data": {
      "text/plain": [
       "3.450356410310808e-08"
      ]
     },
     "execution_count": 29,
     "metadata": {},
     "output_type": "execute_result"
    }
   ],
   "source": [
    "a0=4*np.pi*eps*eps0*hbar**2/(me*q**2) #m\n",
    "a0"
   ]
  },
  {
   "cell_type": "code",
   "execution_count": 32,
   "metadata": {},
   "outputs": [
    {
     "data": {
      "text/plain": [
       "5.811918492160725e+21"
      ]
     },
     "execution_count": 32,
     "metadata": {},
     "output_type": "execute_result"
    }
   ],
   "source": [
    "nimp_m=1/(4/3*np.pi*a0**3) #m^-3\n",
    "nimp=nimp_m*1e-6 #cm^-3\n",
    "nimp_m"
   ]
  },
  {
   "cell_type": "code",
   "execution_count": null,
   "metadata": {},
   "outputs": [],
   "source": []
  }
 ],
 "metadata": {
  "kernelspec": {
   "display_name": "Python 3",
   "language": "python",
   "name": "python3"
  },
  "language_info": {
   "codemirror_mode": {
    "name": "ipython",
    "version": 3
   },
   "file_extension": ".py",
   "mimetype": "text/x-python",
   "name": "python",
   "nbconvert_exporter": "python",
   "pygments_lexer": "ipython3",
   "version": "3.7.3"
  }
 },
 "nbformat": 4,
 "nbformat_minor": 2
}
